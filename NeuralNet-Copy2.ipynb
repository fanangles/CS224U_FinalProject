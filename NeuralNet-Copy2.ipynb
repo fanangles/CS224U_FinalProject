{
 "cells": [
  {
   "cell_type": "code",
   "execution_count": 2,
   "metadata": {
    "collapsed": true
   },
   "outputs": [],
   "source": [
    "import dataIO"
   ]
  },
  {
   "cell_type": "code",
   "execution_count": 3,
   "metadata": {
    "collapsed": false
   },
   "outputs": [],
   "source": [
    "import lasagne\n",
    "import theano\n",
    "import theano.tensor as T\n",
    "import numpy as np;\n",
    "import time\n",
    "\n",
    "from const import *;\n",
    "\n",
    "# create Theano variables for input and target minibatch\n",
    "sentence1 = T.ftensor3('s1')\n",
    "sentence2 = T.ftensor3('s2')\n",
    "mask1 = T.bmatrix('m1')\n",
    "mask2 = T.bmatrix('m2')\n",
    "target_var = T.ivector('ent')\n",
    "MAX_BATCHES = 5000\n"
   ]
  },
  {
   "cell_type": "code",
   "execution_count": 7,
   "metadata": {
    "collapsed": false
   },
   "outputs": [],
   "source": [
    "# create a small convolutional neural network\n",
    "from lasagne.nonlinearities import leaky_rectify, softmax\n",
    "from lasagne.layers import InputLayer, Conv2DLayer, Pool2DLayer, LSTMLayer, ConcatLayer, DenseLayer, dropout, Conv1DLayer, ReshapeLayer\n",
    "\n",
    "\n",
    "\n",
    "def createNeuralNetwork():\n",
    "    #(batchsize, sequence length, onehot vector length)\n",
    "    in1 = InputLayer((None, None, kNUM_CHARS), sentence1)\n",
    "    in2 = InputLayer((None, None, kNUM_CHARS), sentence2)\n",
    "    l_mask1=lasagne.layers.InputLayer((None,None), mask1)\n",
    "    l_mask2=lasagne.layers.InputLayer((None,None), mask2)\n",
    "\n",
    "    num_LSTM_output = (512)\n",
    "    lstm1_f = LSTMLayer(in1, num_LSTM_output,\n",
    "        forgetgate=lasagne.layers.Gate(),\n",
    "        nonlinearity=lasagne.nonlinearities.tanh,\n",
    "        cell_init=lasagne.init.Constant(0.),\n",
    "        hid_init=lasagne.init.Constant(0.), grad_clipping=kGRAD_CLIP,\n",
    "        backwards=False,\n",
    "        mask_input=l_mask1,\n",
    "        only_return_final=True)\n",
    "    lstm1_b = LSTMLayer(in1, num_LSTM_output,\n",
    "        forgetgate=lasagne.layers.Gate(),\n",
    "        nonlinearity=lasagne.nonlinearities.tanh,\n",
    "        cell_init=lasagne.init.Constant(0.),\n",
    "        hid_init=lasagne.init.Constant(0.), grad_clipping=kGRAD_CLIP,\n",
    "        backwards=True,\n",
    "        mask_input=l_mask1,\n",
    "        only_return_final=True)\n",
    "\n",
    "    lstm2_f = LSTMLayer(in2, num_LSTM_output,\n",
    "        forgetgate=lasagne.layers.Gate(),\n",
    "        nonlinearity=lasagne.nonlinearities.tanh,\n",
    "        cell_init=lasagne.init.Constant(0.),\n",
    "        hid_init=lasagne.init.Constant(0.), grad_clipping=kGRAD_CLIP,\n",
    "        backwards=False,\n",
    "        mask_input=l_mask2,\n",
    "        only_return_final=True)\n",
    "    lstm2_b = LSTMLayer(in2, num_LSTM_output,\n",
    "        forgetgate=lasagne.layers.Gate(),\n",
    "        nonlinearity=lasagne.nonlinearities.tanh,\n",
    "        cell_init=lasagne.init.Constant(0.),\n",
    "        hid_init=lasagne.init.Constant(0.), grad_clipping=kGRAD_CLIP,\n",
    "        backwards=True,\n",
    "        mask_input=l_mask2,\n",
    "        only_return_final=True)\n",
    "\n",
    "    network = ConcatLayer([lstm1_f, lstm1_b, lstm2_f, lstm2_b], axis=1) #(NONE-sentencesize by 2048)\n",
    "    network = ReshapeLayer(network, (-1, 1, 4, num_LSTM_output));\n",
    "    #(None by 4x512) I think.\n",
    "    cv2d = Conv2DLayer(network, 15, (3,3), pad='same',\n",
    "                                         nonlinearity=leaky_rectify)\n",
    "    #(20 by 4 by 52)\n",
    "    network = Conv2DLayer(cv2d, 10, (3,3), pad='same',\n",
    "                                         nonlinearity=leaky_rectify)\n",
    "\n",
    "    network = lasagne.layers.MaxPool2DLayer(network, (4,4), stride=2)\n",
    "\n",
    "    network = DenseLayer(dropout(network, 0.5),\n",
    "                                        128, nonlinearity=leaky_rectify,\n",
    "                                        W=lasagne.init.Orthogonal())\n",
    "\n",
    "    network = DenseLayer(dropout(network, 0.5), 3, nonlinearity=softmax)\n",
    "\n",
    "    return network, cv2d;\n",
    "\n",
    "\n",
    "network, cv2d = createNeuralNetwork();\n"
   ]
  },
  {
   "cell_type": "code",
   "execution_count": 30,
   "metadata": {
    "collapsed": false
   },
   "outputs": [
    {
     "name": "stdout",
     "output_type": "stream",
     "text": [
      "Loading Neural Network Values from File\n",
      "Loaded!\n"
     ]
    }
   ],
   "source": [
    "def loadDriverModelFromFile(filename):\n",
    "    print \"Loading Neural Network Values from File\"\n",
    "    _v = np.load(filename)['model']\n",
    "    lasagne.layers.set_all_param_values(network, _v)\n",
    "    if type(filename)==str:\n",
    "        print \"LOADED\"\n",
    "        return;\n",
    "    print \"Loaded!\"\n",
    "\n",
    "with open(\"./modelStore/0606-202105-E0.pkl\", 'r') as f:\n",
    "    loadDriverModelFromFile(f)\n"
   ]
  },
  {
   "cell_type": "code",
   "execution_count": 17,
   "metadata": {
    "collapsed": false
   },
   "outputs": [
    {
     "name": "stdout",
     "output_type": "stream",
     "text": [
      "HOLY SHIT IT COMPILED\n",
      "HOLY SHIT IT COMPILED OUTPUT\n",
      "HOLY SHIT IT COMPILED LOSS FUNCTION WHAT\n",
      "HOLY SHIT IT COMPILED UPDATES\n",
      "HOLY SHIT IT COMPILED TRAINING FUNCTION\n"
     ]
    }
   ],
   "source": [
    "\n",
    "\n",
    "print \"HOLY SHIT IT COMPILED\"\n",
    "# create loss function\n",
    "prediction = lasagne.layers.get_output(network)\n",
    "print \"HOLY SHIT IT COMPILED OUTPUT\"\n",
    "\n",
    "loss = lasagne.objectives.categorical_crossentropy(prediction, target_var)\n",
    "loss = loss.mean() + 1e-4 * lasagne.regularization.regularize_network_params(\n",
    "        network, lasagne.regularization.l2)\n",
    "print \"HOLY SHIT IT COMPILED LOSS FUNCTION WHAT\"\n",
    "\n",
    "# create parameter update expressions\n",
    "params = lasagne.layers.get_all_params(network, trainable=True)\n",
    "updates = lasagne.updates.nesterov_momentum(loss, params, learning_rate=0.01,\n",
    "                                            momentum=0.9)\n",
    "print \"HOLY SHIT IT COMPILED UPDATES\"\n",
    "\n",
    "# compile training function that updates parameters and returns training loss\n",
    "train_fn = theano.function([sentence1, sentence2, mask1, mask2, target_var], loss, updates=updates, allow_input_downcast=True)\n",
    "# train_fn = theano.function([sentence1, sentence2, target_var], loss, updates=updates)\n",
    "print \"HOLY SHIT IT COMPILED TRAINING FUNCTION\"\n",
    "\n"
   ]
  },
  {
   "cell_type": "code",
   "execution_count": 33,
   "metadata": {
    "collapsed": false
   },
   "outputs": [
    {
     "name": "stdout",
     "output_type": "stream",
     "text": [
      "done compiling...\n",
      "reading \n",
      "[[[ 1.  0.  0. ...,  0.  0.  0.]\n",
      "  [ 1.  0.  0. ...,  0.  0.  0.]\n",
      "  [ 0.  0.  0. ...,  0.  0.  0.]\n",
      "  ..., \n",
      "  [ 0.  0.  0. ...,  0.  0.  0.]\n",
      "  [ 0.  0.  0. ...,  0.  0.  0.]\n",
      "  [ 0.  0.  0. ...,  1.  0.  0.]]]\n",
      "(1, 54, 30)\n",
      "(1, 54, 30)\n"
     ]
    },
    {
     "data": {
      "image/png": "[encoded data removed]",
      "text/plain": [
       "<matplotlib.figure.Figure at 0x7f0645780910>"
      ]
     },
     "metadata": {},
     "output_type": "display_data"
    }
   ],
   "source": [
    "#ANALYSIS SYSTEM:\n",
    "\n",
    "def compile_saliency(net):\n",
    "    print \"generating output\"\n",
    "    output = lasagne.layers.get_output(net,deterministic=True)\n",
    "    max_out = T.max(output, axis=1)\n",
    "    saliency = theano.grad(max_out.sum(), wrt=sentence1)\n",
    "    print \"compiling...\"\n",
    "    return theano.function([sentence1, sentence2, mask1, mask2], [saliency, output])\n",
    "\n",
    "def showImg(imgOrig,sal,max_class,title):\n",
    "#     sal = sal[0]\n",
    "    max_class = max_class[0]\n",
    "    sal = sal[::-1].transpose(1,2,0)\n",
    "    print imgOrig.shape\n",
    "    imgOrig = imgOrig[::-1].transpose(1,2,0)\n",
    "    import matplotlib.pyplot as plt\n",
    "    %matplotlib inline\n",
    "    plt.figure(figsize=(10,10),facecolor='w')\n",
    "    plt.subplot(2,2,1)\n",
    "    plt.title('input')\n",
    "    plt.imshow(np.abs(imgOrig).max(axis=-1), cmap='gray')\n",
    "    plt.subplot(2,2,2)\n",
    "    plt.title(\"abs saliency\")\n",
    "    plt.imshow(np.abs(sal).max(axis=-1),cmap='gray')\n",
    "    plt.subplot(2,2,3)\n",
    "    plt.title(\"pos saliency\")\n",
    "    plt.imshow(np.maximum(0, sal).max(axis=-1)/sal.max(axis=-1), cmap='gray')\n",
    "    plt.subplot(2,2,4)\n",
    "    plt.title(\"neg saliency\")\n",
    "    plt.imshow(np.maximum(0, -sal).max(axis=-1)/(-sal.min(axis=-1)), cmap='gray')\n",
    "    plt.show()\n",
    "\n",
    "#sal_fn = compile_saliency(network)\n",
    "\n",
    "def runSaliencyAnalysis():\n",
    "    print \"done compiling...\"\n",
    "    for (batch1,m1), (batch2,m2), ys in dataIO.readChunk(kBATCH_SIZE, './snli_1.0/snli_1.0_train.txt'):\n",
    "        print batch1\n",
    "        saliency,maxclass = sal_fn(batch1, batch2, m1, m2)\n",
    "        print saliency.shape\n",
    "        showImg(batch1,saliency,maxclass,\"Saliency\");\n",
    "        break;\n",
    "\n",
    "\n",
    "runSaliencyAnalysis();\n"
   ]
  },
  {
   "cell_type": "code",
   "execution_count": 25,
   "metadata": {
    "collapsed": false
   },
   "outputs": [
    {
     "name": "stdout",
     "output_type": "stream",
     "text": [
      "reading \n",
      "A person on a horse jumps over a broken down airplane. A person is training his horse for a competition. neutral\n",
      "(1, 7, 30)\n",
      "49\n",
      "54\n",
      "306\n",
      "reading \n",
      "(1, 161, 30)\n",
      "reading \n",
      "[[ 1.  0.  0. ...,  0.  0.  0.]\n",
      " [ 1.  0.  0. ...,  0.  0.  0.]\n",
      " [ 1.  0.  0. ...,  0.  0.  0.]\n",
      " ..., \n",
      " [ 1.  0.  0. ...,  0.  0.  0.]\n",
      " [ 1.  0.  0. ...,  0.  0.  0.]\n",
      " [ 1.  0.  0. ...,  0.  0.  0.]]\n",
      "(161, 30)\n",
      "------------\n",
      "[[ 1.  0.  0. ...,  0.  0.  0.]\n",
      " [ 1.  0.  0. ...,  0.  0.  0.]\n",
      " [ 1.  0.  0. ...,  0.  0.  0.]\n",
      " ..., \n",
      " [ 1.  0.  0. ...,  0.  0.  0.]\n",
      " [ 1.  0.  0. ...,  0.  0.  0.]\n",
      " [ 1.  0.  0. ...,  0.  0.  0.]]\n",
      "(144, 30)\n",
      "------------\n",
      "161\n",
      "144\n"
     ]
    }
   ],
   "source": [
    "with open('./snli_1.0/snli_1.0_train.txt') as f:\n",
    "    \n",
    "    \n",
    "    print \"reading \"\n",
    "    f.readline();\n",
    "    for l in f:\n",
    "        l=l.strip().split(\"\\t\")\n",
    "        print l[5], l[6], l[0]\n",
    "        break;\n",
    "#         print sentence_to_onehots(l[3]), sentence_to_onehots(l[4]), golds[l[0]]\n",
    "\n",
    "#     f.readline();\n",
    "#     print f.readline();\n",
    "#     print dataIO.char_to_onehot('h')\n",
    "#     print dataIO.sentence_to_onehots(\"A person\")\n",
    "    print dataIO.padZeroes([[[1,]+[0,]*29,[0,1]+[0,]*28]], 7)[0].shape\n",
    "print len(\"A person is training his horse for a competition.\")\n",
    "print len(\"A person on a horse jumps over a broken down airplane.\")\n",
    "print len(\"(ROOT (S (NP (NP (DT A) (NN person)) (PP (IN on) (NP (DT a) (NN horse)))) (VP (VBZ jumps) (PP (IN over) (NP (DT a) (JJ broken) (JJ down) (NN airplane)))) (. .)))\t(ROOT (S (NP (DT A) (NN person)) (VP (VBZ is) (VP (VBG training) (NP (PRP$ his) (NN horse)) (PP (IN for) (NP (DT a) (NN competition))))) (. .)))\")\n",
    "for (batch1,m1), (batch2,m2), ys in dataIO.readChunk(kBATCH_SIZE, './snli_1.0/snli_1.0_train.txt'):\n",
    "    print batch1.shape\n",
    "    break;\n",
    "\n",
    "X1 = [];\n",
    "X2 = [];\n",
    "maxLen1 = 0;\n",
    "maxLen2 = 0;\n",
    "for x1,x2,y in dataIO.readData('./snli_1.0/snli_1.0_train.txt'): #(?,NUM_CHAR)\n",
    "    print x1;\n",
    "    print x1.shape\n",
    "    print \"------------\"\n",
    "    print x2;\n",
    "    print x2.shape\n",
    "    print \"------------\"\n",
    "    X1.append(x1)\n",
    "    X2.append(x2)\n",
    "    maxLen1 = max(len(x1), maxLen1)\n",
    "    maxLen2 = max(len(x2), maxLen2)\n",
    "    print maxLen1\n",
    "    print maxLen2\n",
    "    break;\n"
   ]
  },
  {
   "cell_type": "code",
   "execution_count": null,
   "metadata": {
    "collapsed": false
   },
   "outputs": [],
   "source": [
    "# train network (assuming you've got some training data in numpy arrays)\n",
    "\n",
    "def makeMask(batch): #list of matricies of variable size.\n",
    "    m = np.zeros((len(batch), max([b.shape[0] for b in batch])))\n",
    "    for i,b in enumerate(batch):\n",
    "        m[i, 0:b.shape[0]] = 1.0\n",
    "    return m;\n",
    "\n",
    "for epoch in range(10):\n",
    "    batchCount = 0\n",
    "    loss = 0\n",
    "    print \"HOLY SHIT IT EPOCHS!\"\n",
    "    #for (batch1,m1), (batch2,m2), ys in dataIO.readChunk(kBATCH_SIZE, './snli_1.0/snli_1.0_train.txt'):\n",
    "    for (batch1,m1), (batch2,m2), ys in dataIO.readChunk(kBATCH_SIZE, './snli_1.0/snli_1.0_train.txt'):\n",
    "        #         if batchCount >= kMAX_BATCHES:\n",
    "        #             break\n",
    "        # import code\n",
    "        # code.interact(local=locals())\n",
    "        # print batch1.shape, batch2.shape, ys.shape\n",
    "        # loss += train_fn(batch1, batch2, makeMask(batch1), makeMask(batch2), ys)\n",
    "        loss += train_fn(batch1, batch2, m1, m2, ys)\n",
    "        batchCount += 1\n",
    "        if batchCount > 8000:\n",
    "            break\n",
    "\n",
    "    print(\"Epoch %d: Loss %g\" % (epoch + 1, loss / batchCount))\n",
    "   \n",
    "    vals = lasagne.layers.get_all_param_values(network)\n",
    "    modelFile = open(\"modelStore/\"+time.strftime(\"%m%d-%H%M%S\")+\"-E\"+str(epoch)+\".pkl\", mode=\"w\")    \n",
    "    np.savez(modelFile, model=vals)\n",
    "    print \">>>\", modelFile.name\n",
    "    modelFile.close()\n",
    "    print \"Done.\"\n"
   ]
  },
  {
   "cell_type": "code",
   "execution_count": null,
   "metadata": {
    "collapsed": false
   },
   "outputs": [],
   "source": [
    "vals = lasagne.layers.get_all_param_values(network)\n",
    "modelFile = open(\"modelStore/\"+time.strftime(\"%m%d-%H%M%S\")+\".pkl\", mode=\"w\")    \n",
    "np.savez(modelFile, model=vals)\n",
    "print \">>>\", modelFile.name\n",
    "modelFile.close()\n",
    "print \"Done.\"\n"
   ]
  },
  {
   "cell_type": "code",
   "execution_count": 26,
   "metadata": {
    "collapsed": true
   },
   "outputs": [],
   "source": [
    "# use trained network for predictions\n",
    "test_prediction = lasagne.layers.get_output(network, deterministic=True)\n",
    "predict_fn = theano.function([sentence1, sentence2, mask1, mask2], test_prediction)"
   ]
  },
  {
   "cell_type": "code",
   "execution_count": 21,
   "metadata": {
    "collapsed": false,
    "scrolled": true
   },
   "outputs": [
    {
     "name": "stdout",
     "output_type": "stream",
     "text": [
      "reading \n"
     ]
    }
   ],
   "source": [
    "# Save model\n",
    "# Check on dev set\n",
    "batch_num = 0\n",
    "total_classifications = 0\n",
    "total_correct = 0\n",
    "total_incorrect = 0\n",
    "for (batch1,m1), (batch2,m2), ys in dataIO.readChunk(kBATCH_SIZE, './snli_1.0/snli_1.0_dev.txt'):\n",
    "    results = predict_fn(batch1, batch2, m1, m2);\n",
    "    for i in range(len(results)):\n",
    "        if results[i] == ys[i]:\n",
    "            total_correct += 1\n",
    "        else:\n",
    "            total_incorrect += 1\n",
    "        total_classifications += 1\n",
    "    batch_num += 1\n",
    "    print batch_num, \"\\r\", \n",
    "    #if batch_num == 1666: break\n"
   ]
  },
  {
   "cell_type": "code",
   "execution_count": 23,
   "metadata": {
    "collapsed": false
   },
   "outputs": [
    {
     "name": "stdout",
     "output_type": "stream",
     "text": [
      "Total classifications: 10000\n",
      "Total correct: 3393\n",
      "Total incorrect: 6607\n"
     ]
    }
   ],
   "source": [
    "# Stats print out\n",
    "\n",
    "print \"Total classifications: \" + str(total_classifications)\n",
    "print \"Total correct: \" + str(total_correct)\n",
    "print \"Total incorrect: \" + str(total_incorrect)"
   ]
  },
  {
   "cell_type": "code",
   "execution_count": 32,
   "metadata": {
    "collapsed": false
   },
   "outputs": [
    {
     "name": "stdout",
     "output_type": "stream",
     "text": [
      "reading \n",
      "[[ 0.34313923  0.32604912  0.33081168]] [0]\n",
      "[[ 0.34313917  0.32604912  0.33081168]] [2]\n",
      "[[ 0.34313899  0.32604921  0.33081186]] [1]\n",
      "[[ 0.34313902  0.32604918  0.33081174]] [0]\n",
      "[[ 0.34313887  0.32604933  0.33081186]] [1]\n",
      "{}\n"
     ]
    }
   ],
   "source": [
    "# Save model\n",
    "# Check on test set\n",
    "batch_num = 0\n",
    "total_classifications = 0\n",
    "total_correct = 0\n",
    "total_incorrect = 0\n",
    "count = dict()\n",
    "batch1s = [];\n",
    "for (batch1,m1), (batch2,m2), ys in dataIO.readChunk(kBATCH_SIZE, './snli_1.0/snli_1.0_train.txt'):\n",
    "    if batch_num == 5:\n",
    "        break\n",
    "    batch1s.append(batch1)\n",
    "    results = predict_fn(batch1, batch2, m1, m2)\n",
    "    print results, ys\n",
    "#     for i in range(len(results)):\n",
    "#         if results[i] == ys[i]:\n",
    "#             total_correct += 1\n",
    "#         else:\n",
    "#             total_incorrect += 1\n",
    "#         total_classifications += 1\n",
    "#         if results[i] in count:\n",
    "#             count[results[i]] += 1\n",
    "#         else:\n",
    "#             count[results[i]] = 1\n",
    "    batch_num += 1\n",
    "    print batch_num, \"\\r\", \n",
    "print count"
   ]
  },
  {
   "cell_type": "code",
   "execution_count": 25,
   "metadata": {
    "collapsed": false
   },
   "outputs": [
    {
     "name": "stdout",
     "output_type": "stream",
     "text": [
      "Total classifications: 8000\n",
      "Total correct: 2662\n",
      "Total incorrect: 5338\n"
     ]
    }
   ],
   "source": [
    "# Stats print out for train set\n",
    "\n",
    "print \"Total classifications: \" + str(total_classifications)\n",
    "print \"Total correct: \" + str(total_correct)\n",
    "print \"Total incorrect: \" + str(total_incorrect)"
   ]
  },
  {
   "cell_type": "code",
   "execution_count": null,
   "metadata": {
    "collapsed": true
   },
   "outputs": [],
   "source": []
  }
 ],
 "metadata": {
  "kernelspec": {
   "display_name": "Python 2",
   "language": "python",
   "name": "python2"
  },
  "language_info": {
   "codemirror_mode": {
    "name": "ipython",
    "version": 2
   },
   "file_extension": ".py",
   "mimetype": "text/x-python",
   "name": "python",
   "nbconvert_exporter": "python",
   "pygments_lexer": "ipython2",
   "version": "2.7.11"
  }
 },
 "nbformat": 4,
 "nbformat_minor": 0
}
